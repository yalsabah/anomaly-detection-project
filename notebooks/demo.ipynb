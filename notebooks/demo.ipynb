{
 "cells": [
  {
   "cell_type": "markdown",
   "id": "1c99569e",
   "metadata": {},
   "source": [
    "# 🕵️ Anomaly Detection Demo Notebook\n",
    "Visualize results from our trained models."
   ]
  },
  {
   "cell_type": "code",
   "execution_count": null,
   "id": "e1ce5354",
   "metadata": {},
   "outputs": [],
   "source": [
    "import numpy as np\n",
    "import matplotlib.pyplot as plt\n",
    "from tensorflow import keras\n",
    "import joblib\n",
    "import pandas as pd\n",
    "\n",
    "from sklearn.metrics import precision_recall_curve, precision_score, recall_score, f1_score\n",
    "from sklearn.preprocessing import StandardScaler\n"
   ]
  },
  {
   "cell_type": "code",
   "execution_count": null,
   "id": "8458ae4e",
   "metadata": {},
   "outputs": [],
   "source": [
    "# Load the data\n",
    "df = pd.read_csv(\"../data/creditcard.csv\")\n",
    "X = df.drop([\"Class\", \"Time\"], axis=1, errors=\"ignore\")\n",
    "y = df[\"Class\"]\n",
    "\n",
    "scaler = StandardScaler()\n",
    "X_scaled = scaler.fit_transform(X)\n"
   ]
  },
  {
   "cell_type": "code",
   "execution_count": null,
   "id": "c1c4caf5",
   "metadata": {},
   "outputs": [],
   "source": [
    "# Load trained models\n",
    "iso_model = joblib.load(\"../models/isolation_forest.pkl\")\n",
    "ae_model = keras.models.load_model(\"../models/best_autoencoder_model.h5\")\n",
    "lstm_model = keras.models.load_model(\"../models/best_lstm_autoencoder_model.h5\")\n"
   ]
  },
  {
   "cell_type": "code",
   "execution_count": null,
   "id": "87619782",
   "metadata": {},
   "outputs": [],
   "source": [
    "# Predict with models\n",
    "errors_ae = np.mean(np.square(X_scaled - ae_model.predict(X_scaled)), axis=1)\n",
    "X_seq = X_scaled.reshape(-1, 1, X_scaled.shape[1])\n",
    "errors_lstm = np.mean(np.square(X_seq - lstm_model.predict(X_seq)), axis=(1,2))\n",
    "scores_if = -iso_model.decision_function(X_scaled)\n",
    "\n",
    "# PR Curves\n",
    "p1, r1, _ = precision_recall_curve(y, scores_if)\n",
    "p2, r2, _ = precision_recall_curve(y, errors_ae)\n",
    "p3, r3, _ = precision_recall_curve(y, errors_lstm)\n",
    "\n",
    "plt.figure(figsize=(8,6))\n",
    "plt.plot(r1, p1, label=\"Isolation Forest\")\n",
    "plt.plot(r2, p2, label=\"Autoencoder\")\n",
    "plt.plot(r3, p3, label=\"LSTM Autoencoder\")\n",
    "plt.xlabel(\"Recall\")\n",
    "plt.ylabel(\"Precision\")\n",
    "plt.title(\"Precision-Recall Curves\")\n",
    "plt.legend()\n",
    "plt.grid()\n",
    "plt.show()\n"
   ]
  },
  {
   "cell_type": "code",
   "execution_count": null,
   "id": "204cc402",
   "metadata": {},
   "outputs": [],
   "source": [
    "from IPython.display import Image, display\n",
    "\n",
    "display(Image(\"../reports/autoencoder_loss_curve.png\"))\n",
    "display(Image(\"../reports/lstm_autoencoder_loss_curve.png\"))\n",
    "display(Image(\"../reports/precision_recall_curves.png\"))\n"
   ]
  }
 ],
 "metadata": {},
 "nbformat": 4,
 "nbformat_minor": 5
}
